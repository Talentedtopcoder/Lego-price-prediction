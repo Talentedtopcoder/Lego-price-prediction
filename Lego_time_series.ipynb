{
 "cells": [
  {
   "cell_type": "code",
   "execution_count": 1,
   "metadata": {},
   "outputs": [],
   "source": [
    "import pandas as pd\n",
    "import numpy as np\n",
    "import pyaf.ForecastEngine as autof"
   ]
  },
  {
   "cell_type": "markdown",
   "metadata": {},
   "source": [
    "Load and Preprocess Data"
   ]
  },
  {
   "cell_type": "code",
   "execution_count": 2,
   "metadata": {},
   "outputs": [],
   "source": [
    "data = pd.read_csv(\"lego_subset_042023-082023.csv\")"
   ]
  },
  {
   "cell_type": "code",
   "execution_count": 5,
   "metadata": {},
   "outputs": [],
   "source": [
    "# Load the dataset\n",
    "data = pd.read_csv(\"dataset.csv\")\n",
    "\n",
    "# Convert the \"date\" column to datetime\n",
    "data[\"date\"] = pd.to_datetime(data[\"date\"])\n",
    "\n",
    "# Sort the data by date\n",
    "data = data.sort_values(by=\"date\")\n",
    "\n",
    "# Set the \"date\" column as the index\n",
    "data.set_index(\"date\", inplace=True)"
   ]
  },
  {
   "cell_type": "code",
   "execution_count": 6,
   "metadata": {},
   "outputs": [],
   "source": [
    "encoded_data = pd.get_dummies(data, columns=[\"theme\", \"name\"])\n"
   ]
  },
  {
   "cell_type": "code",
   "execution_count": 9,
   "metadata": {},
   "outputs": [
    {
     "ename": "TypeError",
     "evalue": "cForecastEngine.train() missing 3 required positional arguments: 'iTime', 'iSignal', and 'iHorizon'",
     "output_type": "error",
     "traceback": [
      "\u001b[1;31m---------------------------------------------------------------------------\u001b[0m",
      "\u001b[1;31mTypeError\u001b[0m                                 Traceback (most recent call last)",
      "Cell \u001b[1;32mIn[9], line 11\u001b[0m\n\u001b[0;32m      8\u001b[0m forecast_engine\u001b[39m.\u001b[39mmOptions\u001b[39m.\u001b[39mmCrossValidationOptions\u001b[39m.\u001b[39mmExogenousVariables \u001b[39m=\u001b[39m exogenous_vars\n\u001b[0;32m     10\u001b[0m \u001b[39m# Train the model\u001b[39;00m\n\u001b[1;32m---> 11\u001b[0m forecast_engine\u001b[39m.\u001b[39;49mtrain(encoded_data[\u001b[39m\"\u001b[39;49m\u001b[39mlow_price\u001b[39;49m\u001b[39m\"\u001b[39;49m])\n",
      "\u001b[1;31mTypeError\u001b[0m: cForecastEngine.train() missing 3 required positional arguments: 'iTime', 'iSignal', and 'iHorizon'"
     ]
    }
   ],
   "source": [
    "# Define the exogenous variables\n",
    "exogenous_vars = [\"list_price\", \"year\"] + [col for col in encoded_data.columns if col.startswith(\"theme_\") or col.startswith(\"name_\")]\n",
    "\n",
    "# Initialize the ForecastEngine\n",
    "forecast_engine = autof.cForecastEngine()\n",
    "\n",
    "# Set the exogenous variables\n",
    "forecast_engine.mOptions.mCrossValidationOptions.mExogenousVariables = exogenous_vars\n",
    "\n",
    "# Train the model\n",
    "forecast_engine.train(encoded_data[\"low_price\"])\n"
   ]
  }
 ],
 "metadata": {
  "kernelspec": {
   "display_name": "Python 3",
   "language": "python",
   "name": "python3"
  },
  "language_info": {
   "codemirror_mode": {
    "name": "ipython",
    "version": 3
   },
   "file_extension": ".py",
   "mimetype": "text/x-python",
   "name": "python",
   "nbconvert_exporter": "python",
   "pygments_lexer": "ipython3",
   "version": "3.10.4"
  },
  "orig_nbformat": 4
 },
 "nbformat": 4,
 "nbformat_minor": 2
}
